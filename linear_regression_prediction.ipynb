{
 "cells": [
  {
   "cell_type": "code",
   "execution_count": 61,
   "metadata": {
    "collapsed": true
   },
   "outputs": [],
   "source": [
    "import pandas as p\n",
    "from sklearn.model_selection import train_test_split\n",
    "from sklearn import metrics as m\n",
    "from sklearn.ensemble import RandomForestClassifier as rfc\n",
    "from sklearn.linear_model import LinearRegression as lr\n",
    "import numpy as np"
   ]
  },
  {
   "cell_type": "code",
   "execution_count": 21,
   "outputs": [
    {
     "data": {
      "text/plain": "battery_power      int64\nclock_speed      float64\ndual_sim           int64\nfc                 int64\nfour_g             int64\nint_memory         int64\nm_dep            float64\nmobile_wt          int64\nn_cores            int64\npc                 int64\npx_height          int64\npx_width           int64\nram                int64\nsc_h               int64\nsc_w               int64\ntalk_time          int64\nthree_g            int64\ntouch_screen       int64\ndtype: object"
     },
     "execution_count": 21,
     "metadata": {},
     "output_type": "execute_result"
    }
   ],
   "source": [
    "dataset = p.read_csv(\"train.csv\")\n",
    "y = dataset['price_range']\n",
    "x = dataset.drop(['price_range','blue','wifi'], axis = 1)\n",
    "x = x.apply(p.to_numeric)\n",
    "x.dtypes"
   ],
   "metadata": {
    "collapsed": false,
    "pycharm": {
     "name": "#%%\n"
    }
   }
  },
  {
   "cell_type": "code",
   "execution_count": 22,
   "outputs": [],
   "source": [
    "xtrain,xtest,ytrain,ytest =  train_test_split(x,y, train_size= 0.5);"
   ],
   "metadata": {
    "collapsed": false,
    "pycharm": {
     "name": "#%%\n"
    }
   }
  },
  {
   "cell_type": "code",
   "execution_count": 11,
   "outputs": [],
   "source": [
    "RFC = rfc(criterion='entropy')"
   ],
   "metadata": {
    "collapsed": false,
    "pycharm": {
     "name": "#%%\n"
    }
   }
  },
  {
   "cell_type": "code",
   "execution_count": 12,
   "outputs": [
    {
     "data": {
      "text/plain": "RandomForestClassifier(criterion='entropy')"
     },
     "execution_count": 12,
     "metadata": {},
     "output_type": "execute_result"
    }
   ],
   "source": [
    "RFC.fit(xtrain, ytrain)"
   ],
   "metadata": {
    "collapsed": false,
    "pycharm": {
     "name": "#%%\n"
    }
   }
  },
  {
   "cell_type": "code",
   "execution_count": 74,
   "outputs": [
    {
     "data": {
      "text/plain": "array([2, 2, 2, 3, 0, 3, 3, 1, 2, 2, 3, 2, 1, 1, 1, 3, 3, 1, 0, 2, 0, 2,\n       1, 3, 1, 2, 2, 0, 1, 0, 0, 2, 1, 1, 3, 2, 2, 3, 2, 3, 3, 3, 3, 3,\n       3, 1, 0, 1, 0, 2, 3, 3, 2, 3, 3, 0, 2, 0, 1, 2, 0, 1, 1, 2, 2, 3,\n       1, 0, 2, 2, 3, 2, 3, 1, 0, 3, 1, 3, 0, 1, 3, 2, 3, 1, 0, 3, 3, 2,\n       1, 2, 1, 0, 1, 2, 2, 3, 1, 0, 0, 0, 3, 2, 3, 2, 2, 3, 2, 1, 1, 0,\n       3, 1, 1, 2, 1, 0, 2, 0, 0, 0, 0, 2, 1, 0, 0, 1, 2, 0, 0, 2, 2, 3,\n       1, 0, 0, 0, 2, 3, 2, 3, 2, 1, 3, 1, 1, 3, 0, 0, 2, 3, 3, 0, 1, 2,\n       2, 2, 1, 3, 2, 2, 3, 2, 2, 0, 0, 0, 2, 1, 2, 2, 2, 2, 1, 3, 0, 0,\n       1, 0, 3, 0, 1, 0, 1, 3, 2, 0, 2, 3, 3, 0, 3, 3, 1, 2, 2, 0, 1, 3,\n       3, 3, 3, 1, 3, 2, 2, 3, 0, 0, 3, 2, 0, 3, 3, 0, 1, 3, 1, 2, 3, 2,\n       3, 0, 3, 2, 0, 3, 0, 3, 1, 2, 1, 1, 3, 1, 1, 1, 0, 0, 2, 0, 0, 0,\n       3, 0, 0, 2, 1, 0, 0, 1, 3, 2, 3, 1, 2, 3, 2, 2, 0, 2, 1, 3, 2, 3,\n       0, 1, 0, 3, 0, 0, 3, 2, 1, 2, 1, 0, 2, 2, 0, 2, 0, 2, 2, 2, 0, 0,\n       2, 1, 3, 0, 1, 0, 2, 3, 1, 1, 2, 3, 1, 0, 0, 2, 2, 2, 0, 3, 2, 1,\n       3, 3, 2, 3, 0, 0, 0, 1, 3, 3, 2, 0, 0, 3, 3, 0, 2, 1, 1, 2, 2, 0,\n       3, 3, 0, 0, 3, 2, 2, 1, 0, 0, 2, 3, 1, 2, 2, 0, 2, 0, 1, 1, 1, 2,\n       3, 1, 0, 0, 0, 2, 3, 2, 0, 2, 1, 0, 2, 3, 1, 0, 1, 1, 3, 0, 1, 0,\n       3, 0, 0, 1, 3, 2, 2, 3, 2, 1, 1, 2, 1, 2, 1, 1, 0, 0, 1, 2, 0, 3,\n       0, 2, 0, 2, 1, 3, 3, 3, 3, 3, 2, 2, 1, 3, 1, 2, 1, 0, 0, 1, 2, 2,\n       2, 3, 1, 1, 1, 1, 2, 3, 0, 1, 1, 2, 2, 3, 3, 0, 3, 0, 2, 2, 2, 0,\n       3, 2, 2, 3, 1, 0, 3, 1, 3, 0, 3, 2, 1, 1, 2, 0, 3, 1, 0, 1, 0, 2,\n       0, 1, 1, 0, 1, 3, 1, 0, 1, 2, 1, 3, 3, 1, 3, 1, 2, 2, 0, 2, 1, 2,\n       3, 2, 0, 1, 3, 3, 1, 0, 3, 0, 1, 3, 2, 0, 2, 3, 0, 1, 1, 3, 1, 3,\n       0, 3, 0, 3, 0, 2, 2, 0, 0, 2, 3, 2, 1, 3, 1, 1, 1, 2, 0, 3, 2, 3,\n       3, 1, 0, 1, 1, 2, 3, 1, 3, 3, 3, 1, 0, 3, 3, 3, 0, 0, 2, 2, 0, 3,\n       3, 0, 0, 0, 3, 3, 3, 2, 1, 0, 0, 3, 1, 0, 1, 0, 2, 0, 1, 1, 3, 2,\n       1, 0, 3, 2, 0, 0, 3, 3, 3, 1, 1, 2, 1, 2, 0, 1, 0, 1, 2, 2, 2, 0,\n       1, 0, 3, 2, 2, 1, 1, 0, 1, 2, 1, 3, 2, 2, 2, 1, 0, 3, 3, 1, 3, 2,\n       0, 2, 0, 1, 1, 1, 3, 1, 2, 3, 0, 1, 0, 3, 3, 1, 3, 0, 3, 3, 3, 1,\n       3, 2, 1, 2, 0, 1, 2, 2, 0, 2, 3, 1, 3, 2, 3, 0, 3, 2, 0, 2, 0, 3,\n       0, 1, 0, 1, 1, 2, 0, 3, 3, 0, 0, 1, 3, 3, 0, 1, 1, 0, 1, 3, 1, 1,\n       2, 3, 1, 0, 0, 2, 1, 0, 3, 0, 0, 1, 0, 3, 1, 1, 0, 3, 2, 1, 3, 1,\n       1, 3, 1, 0, 3, 3, 3, 3, 0, 1, 2, 1, 2, 2, 0, 2, 3, 3, 1, 0, 2, 1,\n       2, 1, 0, 0, 3, 0, 3, 2, 3, 3, 2, 1, 2, 2, 2, 3, 0, 0, 1, 3, 1, 2,\n       1, 3, 1, 0, 1, 3, 0, 3, 3, 0, 0, 2, 2, 0, 0, 2, 2, 0, 2, 2, 2, 2,\n       0, 0, 3, 1, 0, 3, 2, 0, 3, 1, 2, 2, 2, 3, 1, 1, 1, 2, 1, 2, 1, 2,\n       0, 1, 3, 0, 0, 1, 0, 0, 0, 0, 3, 2, 2, 1, 0, 0, 3, 1, 3, 2, 3, 0,\n       1, 2, 3, 3, 1, 2, 2, 3, 2, 3, 3, 0, 1, 3, 0, 0, 2, 1, 2, 0, 1, 2,\n       2, 1, 1, 1, 0, 1, 2, 3, 3, 0, 1, 0, 2, 0, 3, 3, 0, 2, 2, 2, 3, 0,\n       0, 1, 0, 1, 2, 3, 2, 0, 0, 3, 3, 0, 2, 1, 0, 3, 1, 0, 2, 3, 1, 3,\n       3, 3, 2, 2, 1, 0, 0, 3, 0, 3, 3, 0, 3, 3, 2, 0, 3, 2, 1, 3, 2, 1,\n       1, 1, 3, 0, 3, 2, 1, 0, 2, 0, 2, 1, 3, 0, 1, 3, 1, 0, 3, 0, 0, 1,\n       1, 0, 2, 0, 3, 3, 3, 1, 3, 0, 2, 3, 1, 3, 1, 3, 2, 1, 1, 1, 1, 2,\n       2, 2, 2, 0, 0, 3, 0, 2, 1, 0, 1, 1, 2, 2, 1, 0, 3, 0, 2, 2, 2, 1,\n       3, 0, 3, 1, 0, 0, 1, 0, 0, 2, 0, 2, 1, 0, 1, 1, 0, 0, 3, 2, 2, 3,\n       2, 0, 0, 1, 2, 3, 0, 0, 1, 3], dtype=int64)"
     },
     "execution_count": 74,
     "metadata": {},
     "output_type": "execute_result"
    }
   ],
   "source": [
    "prd2 = RFC.predict(xtest)\n",
    "prd2"
   ],
   "metadata": {
    "collapsed": false,
    "pycharm": {
     "name": "#%%\n"
    }
   }
  },
  {
   "cell_type": "code",
   "execution_count": 73,
   "outputs": [
    {
     "data": {
      "text/plain": "0.946"
     },
     "execution_count": 73,
     "metadata": {},
     "output_type": "execute_result"
    }
   ],
   "source": [
    "m.accuracy_score(ytest, prd2)"
   ],
   "metadata": {
    "collapsed": false,
    "pycharm": {
     "name": "#%%\n"
    }
   }
  },
  {
   "cell_type": "code",
   "execution_count": 75,
   "outputs": [
    {
     "data": {
      "text/plain": "      battery_power  clock_speed  dual_sim  fc  four_g  int_memory  m_dep  \\\n183             959          2.6         1  15       0          20    1.0   \n1015           1371          0.5         0   4       0          52    0.5   \n1220            580          2.1         1   0       0          24    0.4   \n741            1972          1.2         1   0       0          37    0.7   \n1576           1110          1.5         0   2       1          12    0.3   \n...             ...          ...       ...  ..     ...         ...    ...   \n1048           1960          2.1         0   1       0           7    0.2   \n400            1266          1.9         1   0       1           7    0.2   \n1085           1741          0.5         0   1       1          55    0.1   \n97             1665          0.5         0   3       1          60    0.2   \n1237           1558          2.5         0   2       1          32    0.1   \n\n      mobile_wt  n_cores  pc  px_height  px_width   ram  sc_h  sc_w  \\\n183          84        4  19        561      1631  3965    16     1   \n1015        167        4  19        471       663  3034    13     6   \n1220        135        4   5        404       898  3565    12    11   \n741         102        2   1        715      1648  2870    16     0   \n1576        153        8   5        961      1950   624     9     7   \n...         ...      ...  ..        ...       ...   ...   ...   ...   \n1048        165        7   9        868       877  3773    11     9   \n400         184        3  12        346      1468  2532    10     5   \n1085        140        5   3        719       755  2575    13    10   \n97          194        6  18       1572      1684  1601    18    17   \n1237        114        5   3        322      1385   878    16     5   \n\n      talk_time  three_g  touch_screen  \n183           6        1             0  \n1015          8        0             0  \n1220          8        1             0  \n741          17        0             0  \n1576         15        1             0  \n...         ...      ...           ...  \n1048          6        0             1  \n400           4        1             1  \n1085          7        1             1  \n97           14        1             0  \n1237         17        1             1  \n\n[1000 rows x 18 columns]",
      "text/html": "<div>\n<style scoped>\n    .dataframe tbody tr th:only-of-type {\n        vertical-align: middle;\n    }\n\n    .dataframe tbody tr th {\n        vertical-align: top;\n    }\n\n    .dataframe thead th {\n        text-align: right;\n    }\n</style>\n<table border=\"1\" class=\"dataframe\">\n  <thead>\n    <tr style=\"text-align: right;\">\n      <th></th>\n      <th>battery_power</th>\n      <th>clock_speed</th>\n      <th>dual_sim</th>\n      <th>fc</th>\n      <th>four_g</th>\n      <th>int_memory</th>\n      <th>m_dep</th>\n      <th>mobile_wt</th>\n      <th>n_cores</th>\n      <th>pc</th>\n      <th>px_height</th>\n      <th>px_width</th>\n      <th>ram</th>\n      <th>sc_h</th>\n      <th>sc_w</th>\n      <th>talk_time</th>\n      <th>three_g</th>\n      <th>touch_screen</th>\n    </tr>\n  </thead>\n  <tbody>\n    <tr>\n      <th>183</th>\n      <td>959</td>\n      <td>2.6</td>\n      <td>1</td>\n      <td>15</td>\n      <td>0</td>\n      <td>20</td>\n      <td>1.0</td>\n      <td>84</td>\n      <td>4</td>\n      <td>19</td>\n      <td>561</td>\n      <td>1631</td>\n      <td>3965</td>\n      <td>16</td>\n      <td>1</td>\n      <td>6</td>\n      <td>1</td>\n      <td>0</td>\n    </tr>\n    <tr>\n      <th>1015</th>\n      <td>1371</td>\n      <td>0.5</td>\n      <td>0</td>\n      <td>4</td>\n      <td>0</td>\n      <td>52</td>\n      <td>0.5</td>\n      <td>167</td>\n      <td>4</td>\n      <td>19</td>\n      <td>471</td>\n      <td>663</td>\n      <td>3034</td>\n      <td>13</td>\n      <td>6</td>\n      <td>8</td>\n      <td>0</td>\n      <td>0</td>\n    </tr>\n    <tr>\n      <th>1220</th>\n      <td>580</td>\n      <td>2.1</td>\n      <td>1</td>\n      <td>0</td>\n      <td>0</td>\n      <td>24</td>\n      <td>0.4</td>\n      <td>135</td>\n      <td>4</td>\n      <td>5</td>\n      <td>404</td>\n      <td>898</td>\n      <td>3565</td>\n      <td>12</td>\n      <td>11</td>\n      <td>8</td>\n      <td>1</td>\n      <td>0</td>\n    </tr>\n    <tr>\n      <th>741</th>\n      <td>1972</td>\n      <td>1.2</td>\n      <td>1</td>\n      <td>0</td>\n      <td>0</td>\n      <td>37</td>\n      <td>0.7</td>\n      <td>102</td>\n      <td>2</td>\n      <td>1</td>\n      <td>715</td>\n      <td>1648</td>\n      <td>2870</td>\n      <td>16</td>\n      <td>0</td>\n      <td>17</td>\n      <td>0</td>\n      <td>0</td>\n    </tr>\n    <tr>\n      <th>1576</th>\n      <td>1110</td>\n      <td>1.5</td>\n      <td>0</td>\n      <td>2</td>\n      <td>1</td>\n      <td>12</td>\n      <td>0.3</td>\n      <td>153</td>\n      <td>8</td>\n      <td>5</td>\n      <td>961</td>\n      <td>1950</td>\n      <td>624</td>\n      <td>9</td>\n      <td>7</td>\n      <td>15</td>\n      <td>1</td>\n      <td>0</td>\n    </tr>\n    <tr>\n      <th>...</th>\n      <td>...</td>\n      <td>...</td>\n      <td>...</td>\n      <td>...</td>\n      <td>...</td>\n      <td>...</td>\n      <td>...</td>\n      <td>...</td>\n      <td>...</td>\n      <td>...</td>\n      <td>...</td>\n      <td>...</td>\n      <td>...</td>\n      <td>...</td>\n      <td>...</td>\n      <td>...</td>\n      <td>...</td>\n      <td>...</td>\n    </tr>\n    <tr>\n      <th>1048</th>\n      <td>1960</td>\n      <td>2.1</td>\n      <td>0</td>\n      <td>1</td>\n      <td>0</td>\n      <td>7</td>\n      <td>0.2</td>\n      <td>165</td>\n      <td>7</td>\n      <td>9</td>\n      <td>868</td>\n      <td>877</td>\n      <td>3773</td>\n      <td>11</td>\n      <td>9</td>\n      <td>6</td>\n      <td>0</td>\n      <td>1</td>\n    </tr>\n    <tr>\n      <th>400</th>\n      <td>1266</td>\n      <td>1.9</td>\n      <td>1</td>\n      <td>0</td>\n      <td>1</td>\n      <td>7</td>\n      <td>0.2</td>\n      <td>184</td>\n      <td>3</td>\n      <td>12</td>\n      <td>346</td>\n      <td>1468</td>\n      <td>2532</td>\n      <td>10</td>\n      <td>5</td>\n      <td>4</td>\n      <td>1</td>\n      <td>1</td>\n    </tr>\n    <tr>\n      <th>1085</th>\n      <td>1741</td>\n      <td>0.5</td>\n      <td>0</td>\n      <td>1</td>\n      <td>1</td>\n      <td>55</td>\n      <td>0.1</td>\n      <td>140</td>\n      <td>5</td>\n      <td>3</td>\n      <td>719</td>\n      <td>755</td>\n      <td>2575</td>\n      <td>13</td>\n      <td>10</td>\n      <td>7</td>\n      <td>1</td>\n      <td>1</td>\n    </tr>\n    <tr>\n      <th>97</th>\n      <td>1665</td>\n      <td>0.5</td>\n      <td>0</td>\n      <td>3</td>\n      <td>1</td>\n      <td>60</td>\n      <td>0.2</td>\n      <td>194</td>\n      <td>6</td>\n      <td>18</td>\n      <td>1572</td>\n      <td>1684</td>\n      <td>1601</td>\n      <td>18</td>\n      <td>17</td>\n      <td>14</td>\n      <td>1</td>\n      <td>0</td>\n    </tr>\n    <tr>\n      <th>1237</th>\n      <td>1558</td>\n      <td>2.5</td>\n      <td>0</td>\n      <td>2</td>\n      <td>1</td>\n      <td>32</td>\n      <td>0.1</td>\n      <td>114</td>\n      <td>5</td>\n      <td>3</td>\n      <td>322</td>\n      <td>1385</td>\n      <td>878</td>\n      <td>16</td>\n      <td>5</td>\n      <td>17</td>\n      <td>1</td>\n      <td>1</td>\n    </tr>\n  </tbody>\n</table>\n<p>1000 rows × 18 columns</p>\n</div>"
     },
     "execution_count": 75,
     "metadata": {},
     "output_type": "execute_result"
    }
   ],
   "source": [
    "xtrain"
   ],
   "metadata": {
    "collapsed": false,
    "pycharm": {
     "name": "#%%\n"
    }
   }
  }
 ],
 "metadata": {
  "kernelspec": {
   "display_name": "Python 3",
   "language": "python",
   "name": "python3"
  },
  "language_info": {
   "codemirror_mode": {
    "name": "ipython",
    "version": 2
   },
   "file_extension": ".py",
   "mimetype": "text/x-python",
   "name": "python",
   "nbconvert_exporter": "python",
   "pygments_lexer": "ipython2",
   "version": "2.7.6"
  }
 },
 "nbformat": 4,
 "nbformat_minor": 0
}