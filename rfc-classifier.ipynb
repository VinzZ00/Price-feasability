{
 "cells": [
  {
   "cell_type": "code",
   "execution_count": 1,
   "metadata": {
    "collapsed": true
   },
   "outputs": [],
   "source": [
    "import pandas as p\n",
    "from sklearn.model_selection import train_test_split\n",
    "from sklearn import metrics as m\n",
    "from sklearn.ensemble import RandomForestClassifier as rfc\n",
    "from sklearn.linear_model import LinearRegression as lr"
   ]
  },
  {
   "cell_type": "code",
   "execution_count": 2,
   "outputs": [],
   "source": [
    "dataset = p.read_csv(\"train.csv\")\n",
    "y = dataset['price_range']\n",
    "x = dataset.drop(['price_range','blue','wifi'], axis = 1)"
   ],
   "metadata": {
    "collapsed": false,
    "pycharm": {
     "name": "#%%\n"
    }
   }
  },
  {
   "cell_type": "code",
   "execution_count": 3,
   "outputs": [],
   "source": [
    "xtrain,xtest,ytrain,ytest =  train_test_split(x,y, train_size= 0.5);"
   ],
   "metadata": {
    "collapsed": false,
    "pycharm": {
     "name": "#%%\n"
    }
   }
  },
  {
   "cell_type": "code",
   "execution_count": 4,
   "outputs": [],
   "source": [
    "RFC = rfc()"
   ],
   "metadata": {
    "collapsed": false,
    "pycharm": {
     "name": "#%%\n"
    }
   }
  },
  {
   "cell_type": "code",
   "execution_count": 5,
   "outputs": [
    {
     "data": {
      "text/plain": "1642    3\n282     1\n1416    0\n1093    0\n1031    2\n       ..\n150     1\n947     0\n1844    0\n723     0\n1818    0\nName: price_range, Length: 1000, dtype: int64"
     },
     "execution_count": 5,
     "metadata": {},
     "output_type": "execute_result"
    }
   ],
   "source": [
    "RFC.fit(xtrain, ytrain)\n",
    "ytrain"
   ],
   "metadata": {
    "collapsed": false,
    "pycharm": {
     "name": "#%%\n"
    }
   }
  },
  {
   "cell_type": "code",
   "execution_count": 6,
   "outputs": [],
   "source": [
    "prd2 = RFC.predict(xtest)"
   ],
   "metadata": {
    "collapsed": false,
    "pycharm": {
     "name": "#%%\n"
    }
   }
  },
  {
   "cell_type": "code",
   "execution_count": 7,
   "outputs": [
    {
     "data": {
      "text/plain": "array([0], dtype=int64)"
     },
     "execution_count": 7,
     "metadata": {},
     "output_type": "execute_result"
    }
   ],
   "source": [
    "m.accuracy_score(ytest, prd2)\n",
    "RFC.predict([[2000,10,6,1,32,0.1,99,7,14,641,704,418,11,4,14,20,1,2]])"
   ],
   "metadata": {
    "collapsed": false,
    "pycharm": {
     "name": "#%%\n"
    }
   }
  },
  {
   "cell_type": "code",
   "execution_count": 8,
   "outputs": [],
   "source": [
    "LR = lr()"
   ],
   "metadata": {
    "collapsed": false,
    "pycharm": {
     "name": "#%%\n"
    }
   }
  },
  {
   "cell_type": "code",
   "execution_count": 14,
   "outputs": [
    {
     "data": {
      "text/plain": "      battery_power  clock_speed  dual_sim  fc  four_g  int_memory  m_dep  \\\n1714           1698          2.8         0  10       1           7    0.8   \n936             805          0.8         0   1       0          34    0.6   \n446            1991          2.7         0   5       1          64    0.9   \n509            1872          2.3         0   6       0          44    0.7   \n222            1225          2.1         1   8       0          13    0.5   \n...             ...          ...       ...  ..     ...         ...    ...   \n116             909          1.4         0   0       0          53    0.3   \n330             662          0.5         0   5       0          20    0.8   \n737             675          2.4         0   1       0          42    0.6   \n928            1349          2.2         1   5       0          55    0.1   \n1077           1569          0.8         1   8       0          59    0.9   \n\n      mobile_wt  n_cores  pc  px_height  px_width   ram  sc_h  sc_w  \\\n1714        131        8  12         26       508  2992    15     3   \n936          88        6   2       1262      1538  3647    18    11   \n446         145        2  13       1058      1325  1733     5     3   \n509         134        3  15        459      1259  1955     9     4   \n222         116        4  12        759      1404  3836    12    11   \n...         ...      ...  ..        ...       ...   ...   ...   ...   \n116          82        8   0        635       973  3187    12     9   \n330         138        1  10       1001      1224  2125    17    15   \n737         187        7   2        482       874  2953     9     5   \n928         105        7   7        648      1019  2462    15     7   \n1077        111        3  16       1261      1383  3672    15     2   \n\n      talk_time  three_g  touch_screen  \n1714         17        1             1  \n936           9        1             0  \n446           8        1             1  \n509          15        1             0  \n222          11        0             0  \n...         ...      ...           ...  \n116           4        1             0  \n330          15        0             1  \n737          13        1             1  \n928          17        1             0  \n1077         15        1             0  \n\n[1000 rows x 18 columns]",
      "text/html": "<div>\n<style scoped>\n    .dataframe tbody tr th:only-of-type {\n        vertical-align: middle;\n    }\n\n    .dataframe tbody tr th {\n        vertical-align: top;\n    }\n\n    .dataframe thead th {\n        text-align: right;\n    }\n</style>\n<table border=\"1\" class=\"dataframe\">\n  <thead>\n    <tr style=\"text-align: right;\">\n      <th></th>\n      <th>battery_power</th>\n      <th>clock_speed</th>\n      <th>dual_sim</th>\n      <th>fc</th>\n      <th>four_g</th>\n      <th>int_memory</th>\n      <th>m_dep</th>\n      <th>mobile_wt</th>\n      <th>n_cores</th>\n      <th>pc</th>\n      <th>px_height</th>\n      <th>px_width</th>\n      <th>ram</th>\n      <th>sc_h</th>\n      <th>sc_w</th>\n      <th>talk_time</th>\n      <th>three_g</th>\n      <th>touch_screen</th>\n    </tr>\n  </thead>\n  <tbody>\n    <tr>\n      <th>1714</th>\n      <td>1698</td>\n      <td>2.8</td>\n      <td>0</td>\n      <td>10</td>\n      <td>1</td>\n      <td>7</td>\n      <td>0.8</td>\n      <td>131</td>\n      <td>8</td>\n      <td>12</td>\n      <td>26</td>\n      <td>508</td>\n      <td>2992</td>\n      <td>15</td>\n      <td>3</td>\n      <td>17</td>\n      <td>1</td>\n      <td>1</td>\n    </tr>\n    <tr>\n      <th>936</th>\n      <td>805</td>\n      <td>0.8</td>\n      <td>0</td>\n      <td>1</td>\n      <td>0</td>\n      <td>34</td>\n      <td>0.6</td>\n      <td>88</td>\n      <td>6</td>\n      <td>2</td>\n      <td>1262</td>\n      <td>1538</td>\n      <td>3647</td>\n      <td>18</td>\n      <td>11</td>\n      <td>9</td>\n      <td>1</td>\n      <td>0</td>\n    </tr>\n    <tr>\n      <th>446</th>\n      <td>1991</td>\n      <td>2.7</td>\n      <td>0</td>\n      <td>5</td>\n      <td>1</td>\n      <td>64</td>\n      <td>0.9</td>\n      <td>145</td>\n      <td>2</td>\n      <td>13</td>\n      <td>1058</td>\n      <td>1325</td>\n      <td>1733</td>\n      <td>5</td>\n      <td>3</td>\n      <td>8</td>\n      <td>1</td>\n      <td>1</td>\n    </tr>\n    <tr>\n      <th>509</th>\n      <td>1872</td>\n      <td>2.3</td>\n      <td>0</td>\n      <td>6</td>\n      <td>0</td>\n      <td>44</td>\n      <td>0.7</td>\n      <td>134</td>\n      <td>3</td>\n      <td>15</td>\n      <td>459</td>\n      <td>1259</td>\n      <td>1955</td>\n      <td>9</td>\n      <td>4</td>\n      <td>15</td>\n      <td>1</td>\n      <td>0</td>\n    </tr>\n    <tr>\n      <th>222</th>\n      <td>1225</td>\n      <td>2.1</td>\n      <td>1</td>\n      <td>8</td>\n      <td>0</td>\n      <td>13</td>\n      <td>0.5</td>\n      <td>116</td>\n      <td>4</td>\n      <td>12</td>\n      <td>759</td>\n      <td>1404</td>\n      <td>3836</td>\n      <td>12</td>\n      <td>11</td>\n      <td>11</td>\n      <td>0</td>\n      <td>0</td>\n    </tr>\n    <tr>\n      <th>...</th>\n      <td>...</td>\n      <td>...</td>\n      <td>...</td>\n      <td>...</td>\n      <td>...</td>\n      <td>...</td>\n      <td>...</td>\n      <td>...</td>\n      <td>...</td>\n      <td>...</td>\n      <td>...</td>\n      <td>...</td>\n      <td>...</td>\n      <td>...</td>\n      <td>...</td>\n      <td>...</td>\n      <td>...</td>\n      <td>...</td>\n    </tr>\n    <tr>\n      <th>116</th>\n      <td>909</td>\n      <td>1.4</td>\n      <td>0</td>\n      <td>0</td>\n      <td>0</td>\n      <td>53</td>\n      <td>0.3</td>\n      <td>82</td>\n      <td>8</td>\n      <td>0</td>\n      <td>635</td>\n      <td>973</td>\n      <td>3187</td>\n      <td>12</td>\n      <td>9</td>\n      <td>4</td>\n      <td>1</td>\n      <td>0</td>\n    </tr>\n    <tr>\n      <th>330</th>\n      <td>662</td>\n      <td>0.5</td>\n      <td>0</td>\n      <td>5</td>\n      <td>0</td>\n      <td>20</td>\n      <td>0.8</td>\n      <td>138</td>\n      <td>1</td>\n      <td>10</td>\n      <td>1001</td>\n      <td>1224</td>\n      <td>2125</td>\n      <td>17</td>\n      <td>15</td>\n      <td>15</td>\n      <td>0</td>\n      <td>1</td>\n    </tr>\n    <tr>\n      <th>737</th>\n      <td>675</td>\n      <td>2.4</td>\n      <td>0</td>\n      <td>1</td>\n      <td>0</td>\n      <td>42</td>\n      <td>0.6</td>\n      <td>187</td>\n      <td>7</td>\n      <td>2</td>\n      <td>482</td>\n      <td>874</td>\n      <td>2953</td>\n      <td>9</td>\n      <td>5</td>\n      <td>13</td>\n      <td>1</td>\n      <td>1</td>\n    </tr>\n    <tr>\n      <th>928</th>\n      <td>1349</td>\n      <td>2.2</td>\n      <td>1</td>\n      <td>5</td>\n      <td>0</td>\n      <td>55</td>\n      <td>0.1</td>\n      <td>105</td>\n      <td>7</td>\n      <td>7</td>\n      <td>648</td>\n      <td>1019</td>\n      <td>2462</td>\n      <td>15</td>\n      <td>7</td>\n      <td>17</td>\n      <td>1</td>\n      <td>0</td>\n    </tr>\n    <tr>\n      <th>1077</th>\n      <td>1569</td>\n      <td>0.8</td>\n      <td>1</td>\n      <td>8</td>\n      <td>0</td>\n      <td>59</td>\n      <td>0.9</td>\n      <td>111</td>\n      <td>3</td>\n      <td>16</td>\n      <td>1261</td>\n      <td>1383</td>\n      <td>3672</td>\n      <td>15</td>\n      <td>2</td>\n      <td>15</td>\n      <td>1</td>\n      <td>0</td>\n    </tr>\n  </tbody>\n</table>\n<p>1000 rows × 18 columns</p>\n</div>"
     },
     "execution_count": 14,
     "metadata": {},
     "output_type": "execute_result"
    }
   ],
   "source": [
    "LR.fit(xtrain, ytrain)\n",
    "(LR.predict(xtest))\n",
    "xtest"
   ],
   "metadata": {
    "collapsed": false,
    "pycharm": {
     "name": "#%%\n"
    }
   }
  },
  {
   "cell_type": "code",
   "execution_count": 12,
   "outputs": [
    {
     "data": {
      "text/plain": "array([0.3615255])"
     },
     "execution_count": 12,
     "metadata": {},
     "output_type": "execute_result"
    }
   ],
   "source": [
    "LR.predict([[2000,10,6,1,32,0.1,99,7,14,641,704,418,11,4,14,20,1,2]])"
   ],
   "metadata": {
    "collapsed": false,
    "pycharm": {
     "name": "#%%\n"
    }
   }
  }
 ],
 "metadata": {
  "kernelspec": {
   "display_name": "Python 3",
   "language": "python",
   "name": "python3"
  },
  "language_info": {
   "codemirror_mode": {
    "name": "ipython",
    "version": 2
   },
   "file_extension": ".py",
   "mimetype": "text/x-python",
   "name": "python",
   "nbconvert_exporter": "python",
   "pygments_lexer": "ipython2",
   "version": "2.7.6"
  }
 },
 "nbformat": 4,
 "nbformat_minor": 0
}